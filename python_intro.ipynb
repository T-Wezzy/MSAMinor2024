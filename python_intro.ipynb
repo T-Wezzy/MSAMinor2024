{
 "cells": [
  {
   "cell_type": "code",
   "execution_count": 8,
   "metadata": {},
   "outputs": [
    {
     "name": "stdout",
     "output_type": "stream",
     "text": [
      "Trevin Conway\n"
     ]
    }
   ],
   "source": [
    "print(\"Trevin Conway\")\n",
    "    "
   ]
  },
  {
   "cell_type": "code",
   "execution_count": 9,
   "metadata": {},
   "outputs": [
    {
     "name": "stdout",
     "output_type": "stream",
     "text": [
      "my number is 8\n"
     ]
    }
   ],
   "source": [
    "number = 8\n",
    "print(f\"my number is {number}\")"
   ]
  },
  {
   "cell_type": "code",
   "execution_count": 15,
   "metadata": {},
   "outputs": [
    {
     "name": "stdout",
     "output_type": "stream",
     "text": [
      "Housing Price 1: 124\n",
      "Housing Price 2: 77.4\n",
      "Housing Price 3: 93\n",
      "Housing Price 4: 32\n",
      "Housing Price 5: 47\n",
      "Housing Price 6: 50\n",
      "Housing Price 7: 200\n",
      "Housing Price 8: 11\n",
      "Housing Price 9: 13\n",
      "Housing Price 10: 15\n",
      "Housing Price 11: 71\n",
      "Housing Price 12: 934332\n",
      "Housing Price 13: 986234\n",
      "Housing Price 14: 73\n",
      "Housing Price 15: 34\n",
      "Housing Price 16: 2346\n",
      "Housing Price 17: 23456\n",
      "Housing Price 18: 2346\n"
     ]
    }
   ],
   "source": [
    "#Creating a list of numbers\n",
    "housing_prices = [124, 77.4, 93, 32, 47, 50, 200, 11, 13, 15, 71, 934332, 986234, 73, 34, 2346, 23456, 2346]\n",
    "index = 1\n",
    "for i in housing_prices:\n",
    "    \n",
    "    print(f\"Housing Price {index}: {i}\")\n",
    "    index += 1\n"
   ]
  }
 ],
 "metadata": {
  "kernelspec": {
   "display_name": "Python 3",
   "language": "python",
   "name": "python3"
  },
  "language_info": {
   "codemirror_mode": {
    "name": "ipython",
    "version": 3
   },
   "file_extension": ".py",
   "mimetype": "text/x-python",
   "name": "python",
   "nbconvert_exporter": "python",
   "pygments_lexer": "ipython3",
   "version": "3.10.5"
  }
 },
 "nbformat": 4,
 "nbformat_minor": 2
}
